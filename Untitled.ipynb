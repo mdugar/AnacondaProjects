{
 "cells": [
  {
   "cell_type": "code",
   "execution_count": 5,
   "metadata": {},
   "outputs": [
    {
     "name": "stdout",
     "output_type": "stream",
     "text": [
      "   A1EE2E3N7PW666  B000GFDAUG  5.0  1202256000\n",
      "0   AGZ8SM1BGK3CK  B000GFDAUG  5.0  1198195200\n",
      "1  A2VHZ21245KBT7  B000GIOPK2  4.0  1215388800\n",
      "2   ACX8YW2D5EGP6  B000GIOPK2  4.0  1185840000\n",
      "3   A9RNMO9MUSMTJ  B000GIOPK2  2.0  1281052800\n",
      "4  A3STFVPM8NHJ7B  B000GIOPK2  5.0  1203897600\n",
      "    AUI0OLXAB3KKT  B004A9SDD8  5.0  1301184000\n",
      "0  A1ZUSQ3TC3EC4C  B004A9SDD8  5.0  1321574400\n",
      "1   AC05OAXD72X1V  B004A9SDD8  4.0  1367366400\n",
      "2  A2RVMFOKBVM21I  B004A9SDD8  5.0  1350172800\n",
      "3  A3NBSRGUWQGCMZ  B004A9SDD8  1.0  1300838400\n",
      "4  A2KTVCVZJ8GPD2  B004A9SDD8  5.0  1393545600\n"
     ]
    }
   ],
   "source": [
    "import pandas as pd\n",
    "import gzip\n",
    "\n",
    "def parse(path):\n",
    "  g = gzip.open(path, 'rb')\n",
    "  for l in g:\n",
    "    yield eval(l)\n",
    "\n",
    "def getDF(path):\n",
    "  i = 0\n",
    "  df = {}\n",
    "  for d in parse(path):\n",
    "    df[i] = d\n",
    "    i += 1\n",
    "  return pd.DataFrame.from_dict(df, orient='index')\n",
    "\n",
    "''' Reading the Reviews into DataFrames'''\n",
    "\n",
    "#df_IV5 = getDF('reviews_Amazon_Instant_Video_5.json.gz')\n",
    "#df_AA5 = getDF('reviews_Apps_for_Android_5.json.gz')\n",
    "#\n",
    "#df_AU5 = getDF('reviews_Automotive_5.json.gz')\n",
    "#df_BA5 = getDF('reviews_Baby_5.json.gz')\n",
    "#df_BE5 = getDF('reviews_Beauty_5.json.gz')\n",
    "#df_BO5 = getDF('reviews_Books_5.json.gz')\n",
    "#df_CV5 = getDF('reviews_CDs_and_Vinyl_5.json.gz')\n",
    "#df_CP5 = getDF('reviews_Cell_Phones_and_Accessories_5.json.gz')\n",
    "#df_CJ5 = getDF('reviews_Clothing_Shoes_and_Jewelry_5.json.gz')\n",
    "#df_DM5 = getDF('reviews_Digital_Music_5.json.gz')\n",
    "#df_EL5 = getDF('reviews_Electronics_5.json.gz')\n",
    "#df_GG5 = getDF('reviews_Grocery_and_Gourmet_Food_5.json.gz')\n",
    "#df_HP5 = getDF('reviews_Health_and_Personal_Care_5.json.gz')\n",
    "#df_HK5 = getDF('reviews_Home_and_Kitchen_5.json.gz')\n",
    "#df_KS5 = getDF('reviews_Kindle_Store_5.json.gz')\n",
    "#df_MT5 = getDF('reviews_Movies_and_TV_5.json.gz')\n",
    "#df_MI5 = getDF('reviews_Musical_Instruments_5.json.gz')\n",
    "#df_OP5 = getDF('reviews_Office_Products_5.json.gz')\n",
    "#df_LG5 = getDF('reviews_Patio_Lawn_and_Garden_5.json.gz')\n",
    "#df_PS5 = getDF('reviews_Pet_Supplies_5.json.gz')\n",
    "#df_SO5 = getDF('reviews_Sports_and_Outdoors_5.json.gz')\n",
    "#df_TH5 = getDF('reviews_Tools_and_Home_Improvement_5.json.gz')\n",
    "#df_TG5 = getDF('reviews_Toys_and_Games_5.json.gz')\n",
    "#df_VG5 = getDF('reviews_Video_Games_5.json.gz')\n",
    "#\n",
    "\n",
    "'''Reading the Ratings into DataFrames'''\n",
    "\n",
    "df_RT_IV5 = pd.read_csv('ratings_Amazon_Instant_Video.csv')\n",
    "df_RT_AA5 = pd.read_csv('ratings_Apps_for_Android.csv')\n",
    "#\n",
    "#df_RT_AU5 = pd.read_csv('ratings_Automotive.csv')\n",
    "#df_RT_BA5 = pd.read_csv('ratings_Baby.csv')\n",
    "#df_RT_BE5 = pd.read_csv('ratings_Beauty.csv')\n",
    "#df_RT_BO5 = pd.read_csv('ratings_Books.csv')\n",
    "#df_RT_CV5 = pd.read_csv('ratings_CDs_and_Vinyl.csv')\n",
    "#df_RT_CP5 = pd.read_csv('ratings_Cell_Phones_and_Accessories.csv')\n",
    "#df_RT_CJ5 = pd.read_csv('ratings_Clothing_Shoes_and_Jewelry.csv')\n",
    "#df_RT_DM5 = pd.read_csv('ratings_Digital_Music.csv')\n",
    "#df_RT_EL5 = pd.read_csv('ratings_Electronics.csv')\n",
    "#df_RT_GG5 = pd.read_csv('ratings_Grocery_and_Gourmet_Food.csv')\n",
    "#df_RT_HP5 = pd.read_csv('ratings_Health_and_Personal_Care.csv')\n",
    "#df_RT_HK5 = pd.read_csv('ratings_Home_and_Kitchen.csv')\n",
    "#df_RT_KS5 = pd.read_csv('ratings_Kindle_Store.csv')\n",
    "#df_RT_MT5 = pd.read_csv('ratings_Movies_and_TV.csv')\n",
    "#df_RT_MI5 = pd.read_csv('ratings_Musical_Instruments.csv')\n",
    "#df_RT_OP5 = pd.read_csv('ratings_Office_Products.csv')\n",
    "#df_RT_LG5 = pd.read_csv('ratings_Patio_Lawn_and_Garden.csv')\n",
    "#df_RT_PS5 = pd.read_csv('ratings_Pet_Supplies.csv')\n",
    "#df_RT_SO5 = pd.read_csv('ratings_Sports_and_Outdoors.csv')\n",
    "#df_RT_TH5 = pd.read_csv('ratings_Tools_and_Home_Improvement.csv')\n",
    "#df_RT_TG5 = pd.read_csv('ratings_Toys_and_Games.csv')\n",
    "#df_RT_VG5 = pd.read_csv('ratings_Video_Games.csv')\n",
    "#\n",
    "print(df_RT_IV5.head())\n",
    "print(df_RT_AA5.head())\n",
    "#print(df_IV5.head())\n",
    "#print(df_AA5.head())\n",
    "\n"
   ]
  },
  {
   "cell_type": "code",
   "execution_count": 6,
   "metadata": {
    "collapsed": true
   },
   "outputs": [],
   "source": [
    "df_IV5 = getDF('reviews_Amazon_Instant_Video_5.json.gz')\n",
    "df_AA5 = getDF('reviews_Apps_for_Android_5.json.gz')"
   ]
  },
  {
   "cell_type": "code",
   "execution_count": 7,
   "metadata": {},
   "outputs": [
    {
     "name": "stdout",
     "output_type": "stream",
     "text": [
      "       reviewerID        asin                    reviewerName helpful  \\\n",
      "0  A11N155CW1UV02  B000H00VBQ                        AdrianaM  [0, 0]   \n",
      "1  A3BC8O2KCL29V2  B000H00VBQ                         Carol T  [0, 0]   \n",
      "2   A60D5HQFOTSOM  B000H00VBQ  Daniel Cooper \"dancoopermedia\"  [0, 1]   \n",
      "3  A1RJPIGRSNX4PW  B000H00VBQ                  J. Kaplan \"JJ\"  [0, 0]   \n",
      "4  A16XRPF40679KG  B000H00VBQ                   Michael Dobey  [1, 1]   \n",
      "\n",
      "                                          reviewText  overall  \\\n",
      "0  I had big expectations because I love English ...      2.0   \n",
      "1  I highly recommend this series. It is a must f...      5.0   \n",
      "2  This one is a real snoozer. Don't believe anyt...      1.0   \n",
      "3  Mysteries are interesting.  The tension betwee...      4.0   \n",
      "4  This show always is excellent, as far as briti...      5.0   \n",
      "\n",
      "                          summary  unixReviewTime   reviewTime  \n",
      "0      A little bit boring for me      1399075200   05 3, 2014  \n",
      "1           Excellent Grown Up TV      1346630400   09 3, 2012  \n",
      "2           Way too boring for me      1381881600  10 16, 2013  \n",
      "3     Robson Green is mesmerizing      1383091200  10 30, 2013  \n",
      "4  Robson green and great writing      1234310400  02 11, 2009  \n",
      "       reviewerID        asin                   reviewerName helpful  \\\n",
      "0  A1N4O8VOJZTDVB  B004A9SDD8                 Annette Yancey  [1, 1]   \n",
      "1  A2HQWU6HUKIEC7  B004A9SDD8        Audiobook lover \"Kathy\"  [0, 0]   \n",
      "2  A1SXASF6GYG96I  B004A9SDD8                  Barbara Gibbs  [0, 0]   \n",
      "3  A2B54P9ZDYH167  B004A9SDD8  Brooke Greenstreet \"Babylove\"  [3, 4]   \n",
      "4   AFOFZDTX5UC6D  B004A9SDD8                     C. Galindo  [1, 1]   \n",
      "\n",
      "                                          reviewText  overall  \\\n",
      "0  Loves the song, so he really couldn't wait to ...      3.0   \n",
      "1  Oh, how my little grandson loves this app. He'...      5.0   \n",
      "2  I found this at a perfect time since my daught...      5.0   \n",
      "3  My 1 year old goes back to this game over and ...      5.0   \n",
      "4  There are three different versions of the song...      5.0   \n",
      "\n",
      "                                             summary  unixReviewTime  \\\n",
      "0                                        Really cute      1383350400   \n",
      "1                                2-year-old loves it      1323043200   \n",
      "2                                           Fun game      1337558400   \n",
      "3                               We love our Monkeys!      1354752000   \n",
      "4  This is my granddaughters favorite app on my K...      1391212800   \n",
      "\n",
      "    reviewTime  \n",
      "0   11 2, 2013  \n",
      "1   12 5, 2011  \n",
      "2  05 21, 2012  \n",
      "3   12 6, 2012  \n",
      "4   02 1, 2014  \n"
     ]
    }
   ],
   "source": [
    "print(df_IV5.head())\n",
    "print(df_AA5.head())"
   ]
  },
  {
   "cell_type": "code",
   "execution_count": null,
   "metadata": {
    "collapsed": true
   },
   "outputs": [],
   "source": []
  },
  {
   "cell_type": "code",
   "execution_count": null,
   "metadata": {
    "collapsed": true
   },
   "outputs": [],
   "source": []
  }
 ],
 "metadata": {
  "kernelspec": {
   "display_name": "Python 3",
   "language": "python",
   "name": "python3"
  },
  "language_info": {
   "codemirror_mode": {
    "name": "ipython",
    "version": 3
   },
   "file_extension": ".py",
   "mimetype": "text/x-python",
   "name": "python",
   "nbconvert_exporter": "python",
   "pygments_lexer": "ipython3",
   "version": "3.6.3"
  }
 },
 "nbformat": 4,
 "nbformat_minor": 2
}
